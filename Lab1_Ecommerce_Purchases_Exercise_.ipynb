{
  "nbformat": 4,
  "nbformat_minor": 0,
  "metadata": {
    "kernelspec": {
      "display_name": "Python 3",
      "language": "python",
      "name": "python3"
    },
    "language_info": {
      "codemirror_mode": {
        "name": "ipython",
        "version": 3
      },
      "file_extension": ".py",
      "mimetype": "text/x-python",
      "name": "python",
      "nbconvert_exporter": "python",
      "pygments_lexer": "ipython3",
      "version": "3.6.5"
    },
    "colab": {
      "name": "Lab1_Ecommerce Purchases Exercise .ipynb",
      "provenance": []
    }
  },
  "cells": [
    {
      "cell_type": "markdown",
      "metadata": {
        "id": "__1a1Vcf1TsV"
      },
      "source": [
        "#### Introduction to Machine Learning CS452 Ashesi University \r\n",
        "\r\n",
        "## Lab 1"
      ]
    },
    {
      "cell_type": "markdown",
      "metadata": {
        "id": "BzjSQXKA1eEj"
      },
      "source": [
        "Name:"
      ]
    },
    {
      "cell_type": "code",
      "metadata": {
        "id": "2v9orraC1mB5"
      },
      "source": [
        "Percy Brown"
      ],
      "execution_count": null,
      "outputs": []
    },
    {
      "cell_type": "markdown",
      "metadata": {
        "id": "QAwI6AmR1mjs"
      },
      "source": [
        "Student Number:"
      ]
    },
    {
      "cell_type": "code",
      "metadata": {
        "id": "y98ft-tX1qOU"
      },
      "source": [
        "40382022"
      ],
      "execution_count": null,
      "outputs": []
    },
    {
      "cell_type": "markdown",
      "metadata": {
        "id": "wT0TD5Ys1QJt"
      },
      "source": [
        "\n",
        "# Ecommerce Purchases Exercise\n",
        "\n",
        "In this Exercise you will be given some Fake Data about some purchases done through Amazon! Just go ahead and follow the directions and try your best to answer the questions and complete the tasks. Feel free to reference the solutions. Most of the tasks can be solved in different ways. For the most part, the questions get progressively harder.\n",
        "\n",
        "Please excuse anything that doesn't make \"Real-World\" sense in the dataframe, all the data is fake and made-up.\n",
        "\n",
        "Also note that all of these questions can be answered with one line of code.\n",
        "____\n",
        "** Import pandas and read in the Ecommerce Purchases csv file and set it to a DataFrame called ecom. **"
      ]
    },
    {
      "cell_type": "code",
      "metadata": {
        "collapsed": true,
        "id": "qrWxx5yg1QJ6"
      },
      "source": [
        "import pandas as pd"
      ],
      "execution_count": 7,
      "outputs": []
    },
    {
      "cell_type": "markdown",
      "metadata": {
        "id": "rzNDSbs_N9By"
      },
      "source": [
        "To make it easier, the file has been uploaded to my github repository - **PersieB/Machine-Learning-Lab-1** where I read the csv file from the url to the raw dataset."
      ]
    },
    {
      "cell_type": "code",
      "metadata": {
        "collapsed": true,
        "id": "KVoJzB0Z1QJ8"
      },
      "source": [
        "mygithub = 'https://raw.githubusercontent.com/PersieB/Machine-Learning-Lab-1/master/Ecommerce%20Purchases'\r\n",
        "ecom = pd.read_csv(mygithub)"
      ],
      "execution_count": 12,
      "outputs": []
    },
    {
      "cell_type": "markdown",
      "metadata": {
        "id": "7QYXz6NU1QJ-"
      },
      "source": [
        "**Check the head of the DataFrame.**"
      ]
    },
    {
      "cell_type": "code",
      "metadata": {
        "id": "RuZCyl451QJ_",
        "colab": {
          "base_uri": "https://localhost:8080/",
          "height": 447
        },
        "outputId": "7006437e-dfa5-43f3-deff-a7d213765284"
      },
      "source": [
        "ecom.head()"
      ],
      "execution_count": 13,
      "outputs": [
        {
          "output_type": "execute_result",
          "data": {
            "text/html": [
              "<div>\n",
              "<style scoped>\n",
              "    .dataframe tbody tr th:only-of-type {\n",
              "        vertical-align: middle;\n",
              "    }\n",
              "\n",
              "    .dataframe tbody tr th {\n",
              "        vertical-align: top;\n",
              "    }\n",
              "\n",
              "    .dataframe thead th {\n",
              "        text-align: right;\n",
              "    }\n",
              "</style>\n",
              "<table border=\"1\" class=\"dataframe\">\n",
              "  <thead>\n",
              "    <tr style=\"text-align: right;\">\n",
              "      <th></th>\n",
              "      <th>Address</th>\n",
              "      <th>Lot</th>\n",
              "      <th>AM or PM</th>\n",
              "      <th>Browser Info</th>\n",
              "      <th>Company</th>\n",
              "      <th>Credit Card</th>\n",
              "      <th>CC Exp Date</th>\n",
              "      <th>CC Security Code</th>\n",
              "      <th>CC Provider</th>\n",
              "      <th>Email</th>\n",
              "      <th>Job</th>\n",
              "      <th>IP Address</th>\n",
              "      <th>Language</th>\n",
              "      <th>Purchase Price</th>\n",
              "    </tr>\n",
              "  </thead>\n",
              "  <tbody>\n",
              "    <tr>\n",
              "      <th>0</th>\n",
              "      <td>16629 Pace Camp Apt. 448\\nAlexisborough, NE 77...</td>\n",
              "      <td>46 in</td>\n",
              "      <td>PM</td>\n",
              "      <td>Opera/9.56.(X11; Linux x86_64; sl-SI) Presto/2...</td>\n",
              "      <td>Martinez-Herman</td>\n",
              "      <td>6011929061123406</td>\n",
              "      <td>02/20</td>\n",
              "      <td>900</td>\n",
              "      <td>JCB 16 digit</td>\n",
              "      <td>pdunlap@yahoo.com</td>\n",
              "      <td>Scientist, product/process development</td>\n",
              "      <td>149.146.147.205</td>\n",
              "      <td>el</td>\n",
              "      <td>98.14</td>\n",
              "    </tr>\n",
              "    <tr>\n",
              "      <th>1</th>\n",
              "      <td>9374 Jasmine Spurs Suite 508\\nSouth John, TN 8...</td>\n",
              "      <td>28 rn</td>\n",
              "      <td>PM</td>\n",
              "      <td>Opera/8.93.(Windows 98; Win 9x 4.90; en-US) Pr...</td>\n",
              "      <td>Fletcher, Richards and Whitaker</td>\n",
              "      <td>3337758169645356</td>\n",
              "      <td>11/18</td>\n",
              "      <td>561</td>\n",
              "      <td>Mastercard</td>\n",
              "      <td>anthony41@reed.com</td>\n",
              "      <td>Drilling engineer</td>\n",
              "      <td>15.160.41.51</td>\n",
              "      <td>fr</td>\n",
              "      <td>70.73</td>\n",
              "    </tr>\n",
              "    <tr>\n",
              "      <th>2</th>\n",
              "      <td>Unit 0065 Box 5052\\nDPO AP 27450</td>\n",
              "      <td>94 vE</td>\n",
              "      <td>PM</td>\n",
              "      <td>Mozilla/5.0 (compatible; MSIE 9.0; Windows NT ...</td>\n",
              "      <td>Simpson, Williams and Pham</td>\n",
              "      <td>675957666125</td>\n",
              "      <td>08/19</td>\n",
              "      <td>699</td>\n",
              "      <td>JCB 16 digit</td>\n",
              "      <td>amymiller@morales-harrison.com</td>\n",
              "      <td>Customer service manager</td>\n",
              "      <td>132.207.160.22</td>\n",
              "      <td>de</td>\n",
              "      <td>0.95</td>\n",
              "    </tr>\n",
              "    <tr>\n",
              "      <th>3</th>\n",
              "      <td>7780 Julia Fords\\nNew Stacy, WA 45798</td>\n",
              "      <td>36 vm</td>\n",
              "      <td>PM</td>\n",
              "      <td>Mozilla/5.0 (Macintosh; Intel Mac OS X 10_8_0 ...</td>\n",
              "      <td>Williams, Marshall and Buchanan</td>\n",
              "      <td>6011578504430710</td>\n",
              "      <td>02/24</td>\n",
              "      <td>384</td>\n",
              "      <td>Discover</td>\n",
              "      <td>brent16@olson-robinson.info</td>\n",
              "      <td>Drilling engineer</td>\n",
              "      <td>30.250.74.19</td>\n",
              "      <td>es</td>\n",
              "      <td>78.04</td>\n",
              "    </tr>\n",
              "    <tr>\n",
              "      <th>4</th>\n",
              "      <td>23012 Munoz Drive Suite 337\\nNew Cynthia, TX 5...</td>\n",
              "      <td>20 IE</td>\n",
              "      <td>AM</td>\n",
              "      <td>Opera/9.58.(X11; Linux x86_64; it-IT) Presto/2...</td>\n",
              "      <td>Brown, Watson and Andrews</td>\n",
              "      <td>6011456623207998</td>\n",
              "      <td>10/25</td>\n",
              "      <td>678</td>\n",
              "      <td>Diners Club / Carte Blanche</td>\n",
              "      <td>christopherwright@gmail.com</td>\n",
              "      <td>Fine artist</td>\n",
              "      <td>24.140.33.94</td>\n",
              "      <td>es</td>\n",
              "      <td>77.82</td>\n",
              "    </tr>\n",
              "  </tbody>\n",
              "</table>\n",
              "</div>"
            ],
            "text/plain": [
              "                                             Address  ... Purchase Price\n",
              "0  16629 Pace Camp Apt. 448\\nAlexisborough, NE 77...  ...          98.14\n",
              "1  9374 Jasmine Spurs Suite 508\\nSouth John, TN 8...  ...          70.73\n",
              "2                   Unit 0065 Box 5052\\nDPO AP 27450  ...           0.95\n",
              "3              7780 Julia Fords\\nNew Stacy, WA 45798  ...          78.04\n",
              "4  23012 Munoz Drive Suite 337\\nNew Cynthia, TX 5...  ...          77.82\n",
              "\n",
              "[5 rows x 14 columns]"
            ]
          },
          "metadata": {
            "tags": []
          },
          "execution_count": 13
        }
      ]
    },
    {
      "cell_type": "markdown",
      "metadata": {
        "id": "Vc09PDy_1QKC"
      },
      "source": [
        "** How many rows and columns are there? **"
      ]
    },
    {
      "cell_type": "markdown",
      "metadata": {
        "id": "iWDaA2JYPVVO"
      },
      "source": [
        "The info() menthod all the information about the ecom Dataframe, including the number of rows and columns"
      ]
    },
    {
      "cell_type": "code",
      "metadata": {
        "id": "5RHB8XuN1QKF",
        "colab": {
          "base_uri": "https://localhost:8080/"
        },
        "outputId": "22d4c51b-e446-47df-9c77-9801d3ad5a1e"
      },
      "source": [
        "ecom.info()"
      ],
      "execution_count": 16,
      "outputs": [
        {
          "output_type": "stream",
          "text": [
            "<class 'pandas.core.frame.DataFrame'>\n",
            "RangeIndex: 10000 entries, 0 to 9999\n",
            "Data columns (total 14 columns):\n",
            " #   Column            Non-Null Count  Dtype  \n",
            "---  ------            --------------  -----  \n",
            " 0   Address           10000 non-null  object \n",
            " 1   Lot               10000 non-null  object \n",
            " 2   AM or PM          10000 non-null  object \n",
            " 3   Browser Info      10000 non-null  object \n",
            " 4   Company           10000 non-null  object \n",
            " 5   Credit Card       10000 non-null  int64  \n",
            " 6   CC Exp Date       10000 non-null  object \n",
            " 7   CC Security Code  10000 non-null  int64  \n",
            " 8   CC Provider       10000 non-null  object \n",
            " 9   Email             10000 non-null  object \n",
            " 10  Job               10000 non-null  object \n",
            " 11  IP Address        10000 non-null  object \n",
            " 12  Language          10000 non-null  object \n",
            " 13  Purchase Price    10000 non-null  float64\n",
            "dtypes: float64(1), int64(2), object(11)\n",
            "memory usage: 1.1+ MB\n"
          ],
          "name": "stdout"
        }
      ]
    },
    {
      "cell_type": "markdown",
      "metadata": {
        "id": "Z5mcC_8F1QKH"
      },
      "source": [
        "** What is the average Purchase Price? **"
      ]
    },
    {
      "cell_type": "code",
      "metadata": {
        "id": "JEIEpvOu1QKI",
        "colab": {
          "base_uri": "https://localhost:8080/"
        },
        "outputId": "64618e0e-1b4d-45f2-dbff-88c1a28938a6"
      },
      "source": [
        "ecom['Purchase Price'].mean()"
      ],
      "execution_count": 19,
      "outputs": [
        {
          "output_type": "execute_result",
          "data": {
            "text/plain": [
              "50.34730200000025"
            ]
          },
          "metadata": {
            "tags": []
          },
          "execution_count": 19
        }
      ]
    },
    {
      "cell_type": "markdown",
      "metadata": {
        "id": "EGQwe3W01QKK"
      },
      "source": [
        "** What were the highest and lowest purchase prices? **"
      ]
    },
    {
      "cell_type": "code",
      "metadata": {
        "id": "7VCPcOD-1QKL",
        "colab": {
          "base_uri": "https://localhost:8080/"
        },
        "outputId": "b66f0535-69a1-4517-973d-2d46f811448d"
      },
      "source": [
        "ecom['Purchase Price'].max()"
      ],
      "execution_count": 21,
      "outputs": [
        {
          "output_type": "execute_result",
          "data": {
            "text/plain": [
              "99.99"
            ]
          },
          "metadata": {
            "tags": []
          },
          "execution_count": 21
        }
      ]
    },
    {
      "cell_type": "code",
      "metadata": {
        "id": "OzyqcrYj1QKO",
        "colab": {
          "base_uri": "https://localhost:8080/"
        },
        "outputId": "4badd84e-e4b1-454e-b341-c511742f4aa6"
      },
      "source": [
        "ecom['Purchase Price'].min()"
      ],
      "execution_count": 22,
      "outputs": [
        {
          "output_type": "execute_result",
          "data": {
            "text/plain": [
              "0.0"
            ]
          },
          "metadata": {
            "tags": []
          },
          "execution_count": 22
        }
      ]
    },
    {
      "cell_type": "markdown",
      "metadata": {
        "id": "outIi2-c1QKP"
      },
      "source": [
        "** How many people have English 'en' as their Language of choice on the website? **"
      ]
    },
    {
      "cell_type": "code",
      "metadata": {
        "colab": {
          "base_uri": "https://localhost:8080/"
        },
        "id": "bkk7oqUxf5ou",
        "outputId": "eceb249a-ff3d-4699-ac57-1297709062f4"
      },
      "source": [
        "ecom[ecom['Language']=='en'].info()"
      ],
      "execution_count": 77,
      "outputs": [
        {
          "output_type": "stream",
          "text": [
            "<class 'pandas.core.frame.DataFrame'>\n",
            "Int64Index: 1098 entries, 11 to 9979\n",
            "Data columns (total 14 columns):\n",
            " #   Column            Non-Null Count  Dtype  \n",
            "---  ------            --------------  -----  \n",
            " 0   Address           1098 non-null   object \n",
            " 1   Lot               1098 non-null   object \n",
            " 2   AM or PM          1098 non-null   object \n",
            " 3   Browser Info      1098 non-null   object \n",
            " 4   Company           1098 non-null   object \n",
            " 5   Credit Card       1098 non-null   int64  \n",
            " 6   CC Exp Date       1098 non-null   object \n",
            " 7   CC Security Code  1098 non-null   int64  \n",
            " 8   CC Provider       1098 non-null   object \n",
            " 9   Email             1098 non-null   object \n",
            " 10  Job               1098 non-null   object \n",
            " 11  IP Address        1098 non-null   object \n",
            " 12  Language          1098 non-null   object \n",
            " 13  Purchase Price    1098 non-null   float64\n",
            "dtypes: float64(1), int64(2), object(11)\n",
            "memory usage: 128.7+ KB\n"
          ],
          "name": "stdout"
        }
      ]
    },
    {
      "cell_type": "code",
      "metadata": {
        "id": "R_29EMNt1QKQ",
        "colab": {
          "base_uri": "https://localhost:8080/"
        },
        "outputId": "c246350a-ca4c-4c60-90bd-92e3bbe48555"
      },
      "source": [
        "sum(ecom['Language']== 'en')"
      ],
      "execution_count": 35,
      "outputs": [
        {
          "output_type": "execute_result",
          "data": {
            "text/plain": [
              "1098"
            ]
          },
          "metadata": {
            "tags": []
          },
          "execution_count": 35
        }
      ]
    },
    {
      "cell_type": "markdown",
      "metadata": {
        "id": "_6HJvRyq1QKQ"
      },
      "source": [
        "** How many people have the job title of \"Lawyer\" ? **\n"
      ]
    },
    {
      "cell_type": "code",
      "metadata": {
        "id": "Bnu35-ZO1QKR",
        "colab": {
          "base_uri": "https://localhost:8080/"
        },
        "outputId": "dc6e2dff-02dd-49bb-915e-cfaafb687daa"
      },
      "source": [
        "ecom[ecom['Job']=='Lawyer'].info()"
      ],
      "execution_count": 74,
      "outputs": [
        {
          "output_type": "stream",
          "text": [
            "<class 'pandas.core.frame.DataFrame'>\n",
            "Int64Index: 30 entries, 470 to 9979\n",
            "Data columns (total 14 columns):\n",
            " #   Column            Non-Null Count  Dtype  \n",
            "---  ------            --------------  -----  \n",
            " 0   Address           30 non-null     object \n",
            " 1   Lot               30 non-null     object \n",
            " 2   AM or PM          30 non-null     object \n",
            " 3   Browser Info      30 non-null     object \n",
            " 4   Company           30 non-null     object \n",
            " 5   Credit Card       30 non-null     int64  \n",
            " 6   CC Exp Date       30 non-null     object \n",
            " 7   CC Security Code  30 non-null     int64  \n",
            " 8   CC Provider       30 non-null     object \n",
            " 9   Email             30 non-null     object \n",
            " 10  Job               30 non-null     object \n",
            " 11  IP Address        30 non-null     object \n",
            " 12  Language          30 non-null     object \n",
            " 13  Purchase Price    30 non-null     float64\n",
            "dtypes: float64(1), int64(2), object(11)\n",
            "memory usage: 3.5+ KB\n"
          ],
          "name": "stdout"
        }
      ]
    },
    {
      "cell_type": "code",
      "metadata": {
        "colab": {
          "base_uri": "https://localhost:8080/"
        },
        "id": "efou63-Kf0LT",
        "outputId": "c9e9bb90-ebfa-4ece-fc07-8d3d56046541"
      },
      "source": [
        "sum(ecom['Job']=='Lawyer')"
      ],
      "execution_count": 75,
      "outputs": [
        {
          "output_type": "execute_result",
          "data": {
            "text/plain": [
              "30"
            ]
          },
          "metadata": {
            "tags": []
          },
          "execution_count": 75
        }
      ]
    },
    {
      "cell_type": "markdown",
      "metadata": {
        "id": "mAk87YpA1QKT"
      },
      "source": [
        "** How many people made the purchase during the AM and how many people made the purchase during PM ? **\n",
        "\n",
        "**(Hint: Check out [value_counts()](http://pandas.pydata.org/pandas-docs/stable/generated/pandas.Series.value_counts.html) ) **"
      ]
    },
    {
      "cell_type": "code",
      "metadata": {
        "id": "rYMpNV4R1QKU",
        "colab": {
          "base_uri": "https://localhost:8080/"
        },
        "outputId": "0b8befe9-ac72-49aa-b425-056009086c8b"
      },
      "source": [
        "ecom['AM or PM'].value_counts()"
      ],
      "execution_count": 39,
      "outputs": [
        {
          "output_type": "execute_result",
          "data": {
            "text/plain": [
              "PM    5068\n",
              "AM    4932\n",
              "Name: AM or PM, dtype: int64"
            ]
          },
          "metadata": {
            "tags": []
          },
          "execution_count": 39
        }
      ]
    },
    {
      "cell_type": "markdown",
      "metadata": {
        "id": "f24fy0q31QKU"
      },
      "source": [
        "** What are the 5 most common Job Titles? **"
      ]
    },
    {
      "cell_type": "code",
      "metadata": {
        "id": "nqSBhjDz1QKW",
        "colab": {
          "base_uri": "https://localhost:8080/"
        },
        "outputId": "54a56747-802c-4aef-94ba-9512ba7df596"
      },
      "source": [
        "ecom['Job'].value_counts().head(5)"
      ],
      "execution_count": 84,
      "outputs": [
        {
          "output_type": "execute_result",
          "data": {
            "text/plain": [
              "Interior and spatial designer    31\n",
              "Lawyer                           30\n",
              "Social researcher                28\n",
              "Purchasing manager               27\n",
              "Designer, jewellery              27\n",
              "Name: Job, dtype: int64"
            ]
          },
          "metadata": {
            "tags": []
          },
          "execution_count": 84
        }
      ]
    },
    {
      "cell_type": "markdown",
      "metadata": {
        "id": "Iqsuwlqi1QKW"
      },
      "source": [
        "** Someone made a purchase that came from Lot: \"90 WT\" , what was the Purchase Price for this transaction? **"
      ]
    },
    {
      "cell_type": "code",
      "metadata": {
        "id": "PWnWTjqN1QKX",
        "colab": {
          "base_uri": "https://localhost:8080/"
        },
        "outputId": "e2c79621-57bb-466b-e65a-df7dcc57bed4"
      },
      "source": [
        "ecom[ecom['Lot']== \"90 WT\"]['Purchase Price']"
      ],
      "execution_count": 44,
      "outputs": [
        {
          "output_type": "execute_result",
          "data": {
            "text/plain": [
              "513    75.1\n",
              "Name: Purchase Price, dtype: float64"
            ]
          },
          "metadata": {
            "tags": []
          },
          "execution_count": 44
        }
      ]
    },
    {
      "cell_type": "markdown",
      "metadata": {
        "id": "oKvRxXqy1QKY"
      },
      "source": [
        "** What is the email of the person with the following Credit Card Number: 4926535242672853 **"
      ]
    },
    {
      "cell_type": "code",
      "metadata": {
        "id": "C6lL8-FJ1QKZ",
        "colab": {
          "base_uri": "https://localhost:8080/"
        },
        "outputId": "53ad2047-e49c-4a25-db97-39e583aad40b"
      },
      "source": [
        "ecom[ecom['Credit Card']==4926535242672853]['Email']"
      ],
      "execution_count": 72,
      "outputs": [
        {
          "output_type": "execute_result",
          "data": {
            "text/plain": [
              "1234    bondellen@williams-garza.com\n",
              "Name: Email, dtype: object"
            ]
          },
          "metadata": {
            "tags": []
          },
          "execution_count": 72
        }
      ]
    },
    {
      "cell_type": "markdown",
      "metadata": {
        "id": "lG1e9rT91QKa"
      },
      "source": [
        "** How many people have American Express as their Credit Card Provider *and* made a purchase above $95 ?**"
      ]
    },
    {
      "cell_type": "code",
      "metadata": {
        "id": "LY5Wb73Q1QKb",
        "colab": {
          "base_uri": "https://localhost:8080/"
        },
        "outputId": "d457b331-58cd-4111-a89f-9e4f51eb3115"
      },
      "source": [
        "ecom[(ecom['CC Provider']==\"American Express\") & (ecom['Purchase Price'] > 95)].count()"
      ],
      "execution_count": 79,
      "outputs": [
        {
          "output_type": "execute_result",
          "data": {
            "text/plain": [
              "Address             39\n",
              "Lot                 39\n",
              "AM or PM            39\n",
              "Browser Info        39\n",
              "Company             39\n",
              "Credit Card         39\n",
              "CC Exp Date         39\n",
              "CC Security Code    39\n",
              "CC Provider         39\n",
              "Email               39\n",
              "Job                 39\n",
              "IP Address          39\n",
              "Language            39\n",
              "Purchase Price      39\n",
              "dtype: int64"
            ]
          },
          "metadata": {
            "tags": []
          },
          "execution_count": 79
        }
      ]
    },
    {
      "cell_type": "code",
      "metadata": {
        "colab": {
          "base_uri": "https://localhost:8080/"
        },
        "id": "X8BgxyJ8gQtK",
        "outputId": "cc817e77-88e2-4b2a-947e-5f289b07f208"
      },
      "source": [
        "sum((ecom['CC Provider']==\"American Express\") & (ecom['Purchase Price'] > 95))"
      ],
      "execution_count": 78,
      "outputs": [
        {
          "output_type": "execute_result",
          "data": {
            "text/plain": [
              "39"
            ]
          },
          "metadata": {
            "tags": []
          },
          "execution_count": 78
        }
      ]
    },
    {
      "cell_type": "markdown",
      "metadata": {
        "id": "x_KUDykX1QKc"
      },
      "source": [
        "** Hard: How many people have a credit card that expires in 2025? **"
      ]
    },
    {
      "cell_type": "markdown",
      "metadata": {
        "id": "C0XjsTQSc8k9"
      },
      "source": [
        "I check the expiry date that ends in '25', starting from index 3 of the date to 4 (since the last index is 4)"
      ]
    },
    {
      "cell_type": "code",
      "metadata": {
        "colab": {
          "base_uri": "https://localhost:8080/"
        },
        "id": "I-JHumOQgkth",
        "outputId": "a480c2b5-6aa0-4579-80d0-79594e6ac196"
      },
      "source": [
        "ecom[ecom['CC Exp Date'].apply(lambda exp_date: exp_date[3:5] =='25')].count()"
      ],
      "execution_count": 82,
      "outputs": [
        {
          "output_type": "execute_result",
          "data": {
            "text/plain": [
              "Address             1033\n",
              "Lot                 1033\n",
              "AM or PM            1033\n",
              "Browser Info        1033\n",
              "Company             1033\n",
              "Credit Card         1033\n",
              "CC Exp Date         1033\n",
              "CC Security Code    1033\n",
              "CC Provider         1033\n",
              "Email               1033\n",
              "Job                 1033\n",
              "IP Address          1033\n",
              "Language            1033\n",
              "Purchase Price      1033\n",
              "dtype: int64"
            ]
          },
          "metadata": {
            "tags": []
          },
          "execution_count": 82
        }
      ]
    },
    {
      "cell_type": "code",
      "metadata": {
        "id": "sAivupJX1QKc",
        "colab": {
          "base_uri": "https://localhost:8080/"
        },
        "outputId": "dd360e22-4be1-4210-cc21-92a1b0481411"
      },
      "source": [
        "sum(ecom['CC Exp Date'].apply(lambda exp_date: exp_date[3:5] =='25'))"
      ],
      "execution_count": 80,
      "outputs": [
        {
          "output_type": "execute_result",
          "data": {
            "text/plain": [
              "1033"
            ]
          },
          "metadata": {
            "tags": []
          },
          "execution_count": 80
        }
      ]
    },
    {
      "cell_type": "markdown",
      "metadata": {
        "id": "9CZevR801QKd"
      },
      "source": [
        "** Hard: What are the top 5 most popular email providers/hosts (e.g. gmail.com, yahoo.com, etc...) **"
      ]
    },
    {
      "cell_type": "markdown",
      "metadata": {
        "id": "-nhicBwzcSAQ"
      },
      "source": [
        "I split the emails by the delimiter '@', which separates them two parts in a list, where I use index 1 to access the name of the email providers"
      ]
    },
    {
      "cell_type": "code",
      "metadata": {
        "id": "eNQXz-rD1QKd",
        "colab": {
          "base_uri": "https://localhost:8080/"
        },
        "outputId": "6c46cc7c-6188-4641-d2f9-f1c8c41e42b8"
      },
      "source": [
        "ecom['Email'].apply(lambda email_hosts: email_hosts.split('@')[1]).value_counts().head(5)"
      ],
      "execution_count": 66,
      "outputs": [
        {
          "output_type": "execute_result",
          "data": {
            "text/plain": [
              "hotmail.com     1638\n",
              "yahoo.com       1616\n",
              "gmail.com       1605\n",
              "smith.com         42\n",
              "williams.com      37\n",
              "Name: Email, dtype: int64"
            ]
          },
          "metadata": {
            "tags": []
          },
          "execution_count": 66
        }
      ]
    },
    {
      "cell_type": "markdown",
      "metadata": {
        "id": "g6GJoIFS1QKe"
      },
      "source": [
        "# Great Job!"
      ]
    }
  ]
}