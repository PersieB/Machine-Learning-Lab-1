{
  "nbformat": 4,
  "nbformat_minor": 0,
  "metadata": {
    "kernelspec": {
      "display_name": "Python 3",
      "language": "python",
      "name": "python3"
    },
    "language_info": {
      "codemirror_mode": {
        "name": "ipython",
        "version": 3
      },
      "file_extension": ".py",
      "mimetype": "text/x-python",
      "name": "python",
      "nbconvert_exporter": "python",
      "pygments_lexer": "ipython3",
      "version": "3.6.5"
    },
    "colab": {
      "name": "Lab1_Numpy Exercise .ipynb",
      "provenance": []
    }
  },
  "cells": [
    {
      "cell_type": "markdown",
      "metadata": {
        "id": "5qNstV8yjFUU"
      },
      "source": [
        "#### Introduction to Machine Learning CS452 Ashesi University \r\n",
        "\r\n",
        "## Lab 1"
      ]
    },
    {
      "cell_type": "markdown",
      "metadata": {
        "id": "m0q900Y3joJD"
      },
      "source": [
        "Name:"
      ]
    },
    {
      "cell_type": "code",
      "metadata": {
        "id": "nfTC7JN2jvpe"
      },
      "source": [
        "Percy Brown"
      ],
      "execution_count": null,
      "outputs": []
    },
    {
      "cell_type": "markdown",
      "metadata": {
        "id": "4DWKe2rHjwm9"
      },
      "source": [
        "Student Number:"
      ]
    },
    {
      "cell_type": "code",
      "metadata": {
        "id": "Dpd4cVU4jziU"
      },
      "source": [
        "40382022"
      ],
      "execution_count": null,
      "outputs": []
    },
    {
      "cell_type": "markdown",
      "metadata": {
        "id": "feAmQqlQ_k3C"
      },
      "source": [
        "# NumPy Exercises \n",
        "\n",
        "Now that we've learned about NumPy let's test your knowledge. We'll start off with a few simple tasks, and then you'll be asked some more complicated questions."
      ]
    },
    {
      "cell_type": "markdown",
      "metadata": {
        "id": "f0mKiHBC_k3G"
      },
      "source": [
        "#### Import NumPy as np"
      ]
    },
    {
      "cell_type": "code",
      "metadata": {
        "id": "NGGKgkAE_k3H"
      },
      "source": [
        "import numpy as np"
      ],
      "execution_count": 1,
      "outputs": []
    },
    {
      "cell_type": "markdown",
      "metadata": {
        "id": "w5xbO15L_k3J"
      },
      "source": [
        "#### Create an array of 10 zeros "
      ]
    },
    {
      "cell_type": "code",
      "metadata": {
        "id": "WPrwhzEj_k3L",
        "colab": {
          "base_uri": "https://localhost:8080/"
        },
        "outputId": "dc5a9c09-4dd6-4632-bab5-45bb918b3dbd"
      },
      "source": [
        "array = np.zeros(10)\r\n",
        "array"
      ],
      "execution_count": 4,
      "outputs": [
        {
          "output_type": "execute_result",
          "data": {
            "text/plain": [
              "array([0., 0., 0., 0., 0., 0., 0., 0., 0., 0.])"
            ]
          },
          "metadata": {
            "tags": []
          },
          "execution_count": 4
        }
      ]
    },
    {
      "cell_type": "markdown",
      "metadata": {
        "id": "c5JJCoF3_k3N"
      },
      "source": [
        "#### Create an array of 10 ones"
      ]
    },
    {
      "cell_type": "code",
      "metadata": {
        "id": "YCuw9prd_k3Q",
        "colab": {
          "base_uri": "https://localhost:8080/"
        },
        "outputId": "6a11fa26-7ac4-432b-8c1a-18ed3ac46b60"
      },
      "source": [
        "array = np.ones(10)\r\n",
        "array"
      ],
      "execution_count": 5,
      "outputs": [
        {
          "output_type": "execute_result",
          "data": {
            "text/plain": [
              "array([1., 1., 1., 1., 1., 1., 1., 1., 1., 1.])"
            ]
          },
          "metadata": {
            "tags": []
          },
          "execution_count": 5
        }
      ]
    },
    {
      "cell_type": "markdown",
      "metadata": {
        "id": "SMQk1CpO_k3R"
      },
      "source": [
        "#### Create an array of 10 fives"
      ]
    },
    {
      "cell_type": "code",
      "metadata": {
        "id": "0Vj9Oq-F_k3T",
        "colab": {
          "base_uri": "https://localhost:8080/"
        },
        "outputId": "e2ab2da5-13b7-4e33-bd02-e8a96f17714b"
      },
      "source": [
        "array = np.ones(10)*5\r\n",
        "array"
      ],
      "execution_count": 8,
      "outputs": [
        {
          "output_type": "execute_result",
          "data": {
            "text/plain": [
              "array([5., 5., 5., 5., 5., 5., 5., 5., 5., 5.])"
            ]
          },
          "metadata": {
            "tags": []
          },
          "execution_count": 8
        }
      ]
    },
    {
      "cell_type": "markdown",
      "metadata": {
        "id": "SpDDQa2z_k3T"
      },
      "source": [
        "#### Create an array of the integers from 10 to 50"
      ]
    },
    {
      "cell_type": "code",
      "metadata": {
        "id": "1z37jN5d_k3V",
        "colab": {
          "base_uri": "https://localhost:8080/"
        },
        "outputId": "9569adf3-9199-4e3a-e7dd-f4e694d75e10"
      },
      "source": [
        "array = np.arange(10,51)\r\n",
        "array"
      ],
      "execution_count": 13,
      "outputs": [
        {
          "output_type": "execute_result",
          "data": {
            "text/plain": [
              "array([10, 11, 12, 13, 14, 15, 16, 17, 18, 19, 20, 21, 22, 23, 24, 25, 26,\n",
              "       27, 28, 29, 30, 31, 32, 33, 34, 35, 36, 37, 38, 39, 40, 41, 42, 43,\n",
              "       44, 45, 46, 47, 48, 49, 50])"
            ]
          },
          "metadata": {
            "tags": []
          },
          "execution_count": 13
        }
      ]
    },
    {
      "cell_type": "markdown",
      "metadata": {
        "id": "KxHctFbx_k3X"
      },
      "source": [
        "#### Create an array of all the even integers from 10 to 50"
      ]
    },
    {
      "cell_type": "code",
      "metadata": {
        "id": "3afU-6Yz_k3Y",
        "colab": {
          "base_uri": "https://localhost:8080/"
        },
        "outputId": "27d8d5c8-ec91-4262-f2ce-6d61c5df0e41"
      },
      "source": [
        "array = np.arange(10,51,2)\r\n",
        "array"
      ],
      "execution_count": 15,
      "outputs": [
        {
          "output_type": "execute_result",
          "data": {
            "text/plain": [
              "array([10, 12, 14, 16, 18, 20, 22, 24, 26, 28, 30, 32, 34, 36, 38, 40, 42,\n",
              "       44, 46, 48, 50])"
            ]
          },
          "metadata": {
            "tags": []
          },
          "execution_count": 15
        }
      ]
    },
    {
      "cell_type": "markdown",
      "metadata": {
        "id": "xDJDM2lM_k3Z"
      },
      "source": [
        "#### Create a 3x3 matrix with values ranging from 0 to 8"
      ]
    },
    {
      "cell_type": "code",
      "metadata": {
        "id": "ctWjBqQc_k3Z",
        "colab": {
          "base_uri": "https://localhost:8080/"
        },
        "outputId": "1c8e963b-eefa-4ac5-db87-2f7de1a6425d"
      },
      "source": [
        "array =  np.arange(0, 9).reshape(3,3)\r\n",
        "array"
      ],
      "execution_count": 19,
      "outputs": [
        {
          "output_type": "execute_result",
          "data": {
            "text/plain": [
              "array([[0, 1, 2],\n",
              "       [3, 4, 5],\n",
              "       [6, 7, 8]])"
            ]
          },
          "metadata": {
            "tags": []
          },
          "execution_count": 19
        }
      ]
    },
    {
      "cell_type": "markdown",
      "metadata": {
        "id": "H4d7Vyhn_k3a"
      },
      "source": [
        "#### Create a 3x3 identity matrix"
      ]
    },
    {
      "cell_type": "code",
      "metadata": {
        "id": "qbDbxytV_k3a",
        "colab": {
          "base_uri": "https://localhost:8080/"
        },
        "outputId": "13e173e1-596f-41d7-f12d-b613520cc9fb"
      },
      "source": [
        "array = np.identity(3)\r\n",
        "array"
      ],
      "execution_count": 21,
      "outputs": [
        {
          "output_type": "execute_result",
          "data": {
            "text/plain": [
              "array([[1., 0., 0.],\n",
              "       [0., 1., 0.],\n",
              "       [0., 0., 1.]])"
            ]
          },
          "metadata": {
            "tags": []
          },
          "execution_count": 21
        }
      ]
    },
    {
      "cell_type": "markdown",
      "metadata": {
        "id": "CSH2JoxH_k3c"
      },
      "source": [
        "#### Use NumPy to generate a random number between 0 and 1"
      ]
    },
    {
      "cell_type": "code",
      "metadata": {
        "id": "6Tp0ewYm_k3d",
        "colab": {
          "base_uri": "https://localhost:8080/"
        },
        "outputId": "1b6445f2-2608-40b6-9440-a96a9de69303"
      },
      "source": [
        "array = np.random.rand()\r\n",
        "array"
      ],
      "execution_count": 36,
      "outputs": [
        {
          "output_type": "execute_result",
          "data": {
            "text/plain": [
              "0.6913452073752566"
            ]
          },
          "metadata": {
            "tags": []
          },
          "execution_count": 36
        }
      ]
    },
    {
      "cell_type": "markdown",
      "metadata": {
        "id": "_JJCQrbf_k3d"
      },
      "source": [
        "#### Use NumPy to generate an array of 25 random numbers sampled from a standard normal distribution"
      ]
    },
    {
      "cell_type": "code",
      "metadata": {
        "id": "wddM78Fr_k3e",
        "colab": {
          "base_uri": "https://localhost:8080/"
        },
        "outputId": "49483b78-d453-432a-accd-4a4d22ba08c6"
      },
      "source": [
        "array = np.random.normal(size=25)\r\n",
        "array"
      ],
      "execution_count": 55,
      "outputs": [
        {
          "output_type": "execute_result",
          "data": {
            "text/plain": [
              "array([-0.61264671, -0.25295405,  0.62604106, -0.73766006,  0.6793839 ,\n",
              "       -0.10435707,  0.02625857, -0.77197697,  1.7194786 ,  0.53861635,\n",
              "       -0.54091533,  1.66489771, -0.4982286 , -0.26435702,  0.42308958,\n",
              "        0.28805543,  1.42795151,  0.95589454, -1.18208034,  1.8635035 ,\n",
              "       -0.15063623, -0.46652889,  1.3603556 ,  0.49261177,  0.61072064])"
            ]
          },
          "metadata": {
            "tags": []
          },
          "execution_count": 55
        }
      ]
    },
    {
      "cell_type": "markdown",
      "metadata": {
        "id": "ASAcpIWu_k3f"
      },
      "source": [
        "#### Create the following matrix:"
      ]
    },
    {
      "cell_type": "code",
      "metadata": {
        "id": "8bk22xNv_k3f",
        "colab": {
          "base_uri": "https://localhost:8080/"
        },
        "outputId": "0ca81014-dae4-430e-e8f8-936a01af8c15"
      },
      "source": [
        "array = np.arange(0.01,1.01,0.01)\r\n",
        "array"
      ],
      "execution_count": 58,
      "outputs": [
        {
          "output_type": "execute_result",
          "data": {
            "text/plain": [
              "array([0.01, 0.02, 0.03, 0.04, 0.05, 0.06, 0.07, 0.08, 0.09, 0.1 , 0.11,\n",
              "       0.12, 0.13, 0.14, 0.15, 0.16, 0.17, 0.18, 0.19, 0.2 , 0.21, 0.22,\n",
              "       0.23, 0.24, 0.25, 0.26, 0.27, 0.28, 0.29, 0.3 , 0.31, 0.32, 0.33,\n",
              "       0.34, 0.35, 0.36, 0.37, 0.38, 0.39, 0.4 , 0.41, 0.42, 0.43, 0.44,\n",
              "       0.45, 0.46, 0.47, 0.48, 0.49, 0.5 , 0.51, 0.52, 0.53, 0.54, 0.55,\n",
              "       0.56, 0.57, 0.58, 0.59, 0.6 , 0.61, 0.62, 0.63, 0.64, 0.65, 0.66,\n",
              "       0.67, 0.68, 0.69, 0.7 , 0.71, 0.72, 0.73, 0.74, 0.75, 0.76, 0.77,\n",
              "       0.78, 0.79, 0.8 , 0.81, 0.82, 0.83, 0.84, 0.85, 0.86, 0.87, 0.88,\n",
              "       0.89, 0.9 , 0.91, 0.92, 0.93, 0.94, 0.95, 0.96, 0.97, 0.98, 0.99,\n",
              "       1.  ])"
            ]
          },
          "metadata": {
            "tags": []
          },
          "execution_count": 58
        }
      ]
    },
    {
      "cell_type": "markdown",
      "metadata": {
        "id": "V1KO1R0__k3g"
      },
      "source": [
        "#### Create an array of 20 linearly spaced points between 0 and 1:"
      ]
    },
    {
      "cell_type": "code",
      "metadata": {
        "id": "Jd3MbnZW_k3h",
        "colab": {
          "base_uri": "https://localhost:8080/"
        },
        "outputId": "1d7d6fb2-d13a-401e-ac91-f0e9f70ea691"
      },
      "source": [
        "array = np.linspace(0, 1, 20)\r\n",
        "array"
      ],
      "execution_count": 61,
      "outputs": [
        {
          "output_type": "execute_result",
          "data": {
            "text/plain": [
              "array([0.        , 0.05263158, 0.10526316, 0.15789474, 0.21052632,\n",
              "       0.26315789, 0.31578947, 0.36842105, 0.42105263, 0.47368421,\n",
              "       0.52631579, 0.57894737, 0.63157895, 0.68421053, 0.73684211,\n",
              "       0.78947368, 0.84210526, 0.89473684, 0.94736842, 1.        ])"
            ]
          },
          "metadata": {
            "tags": []
          },
          "execution_count": 61
        }
      ]
    },
    {
      "cell_type": "markdown",
      "metadata": {
        "id": "bWp2QcXr_k3i"
      },
      "source": [
        "## Numpy Indexing and Selection\n",
        "\n",
        "Now you will be given a matrix (mat), and be asked to replicate the resulting matrix outputs by indexing/selecting from mat:"
      ]
    },
    {
      "cell_type": "code",
      "metadata": {
        "id": "Mq2woN4p_k3i",
        "colab": {
          "base_uri": "https://localhost:8080/"
        },
        "outputId": "bc51e68e-b42d-4dec-e7ea-4588a7bdc2a4"
      },
      "source": [
        "mat = np.arange(1, 26).reshape((5,5))\r\n",
        "mat"
      ],
      "execution_count": 64,
      "outputs": [
        {
          "output_type": "execute_result",
          "data": {
            "text/plain": [
              "array([[ 1,  2,  3,  4,  5],\n",
              "       [ 6,  7,  8,  9, 10],\n",
              "       [11, 12, 13, 14, 15],\n",
              "       [16, 17, 18, 19, 20],\n",
              "       [21, 22, 23, 24, 25]])"
            ]
          },
          "metadata": {
            "tags": []
          },
          "execution_count": 64
        }
      ]
    },
    {
      "cell_type": "code",
      "metadata": {
        "id": "8SpSCRqf_k3j",
        "colab": {
          "base_uri": "https://localhost:8080/"
        },
        "outputId": "9df7c865-7e98-415c-95b7-a431f53464bc"
      },
      "source": [
        "mat[2:,1:]"
      ],
      "execution_count": 67,
      "outputs": [
        {
          "output_type": "execute_result",
          "data": {
            "text/plain": [
              "array([[12, 13, 14, 15],\n",
              "       [17, 18, 19, 20],\n",
              "       [22, 23, 24, 25]])"
            ]
          },
          "metadata": {
            "tags": []
          },
          "execution_count": 67
        }
      ]
    },
    {
      "cell_type": "code",
      "metadata": {
        "id": "Du3Ow2qQ_k3j",
        "colab": {
          "base_uri": "https://localhost:8080/"
        },
        "outputId": "453db034-91b5-4bad-995d-bc1f39bc56cb"
      },
      "source": [
        "mat[3,len(mat)-1]"
      ],
      "execution_count": 70,
      "outputs": [
        {
          "output_type": "execute_result",
          "data": {
            "text/plain": [
              "20"
            ]
          },
          "metadata": {
            "tags": []
          },
          "execution_count": 70
        }
      ]
    },
    {
      "cell_type": "code",
      "metadata": {
        "id": "Q1TZ9x7R_k3k",
        "outputId": "2ad82e26-c285-4e6e-d123-690366e6010c"
      },
      "source": [
        "# WRITE CODE HERE THAT REPRODUCES THE OUTPUT OF THE CELL BELOW\n",
        "# BE CAREFUL NOT TO RUN THE CELL BELOW, OTHERWISE YOU WON'T\n",
        "# BE ABLE TO SEE THE OUTPUT ANY MORE\n"
      ],
      "execution_count": null,
      "outputs": [
        {
          "output_type": "execute_result",
          "data": {
            "text/plain": [
              "array([[ 2],\n",
              "       [ 7],\n",
              "       [12]])"
            ]
          },
          "metadata": {
            "tags": []
          },
          "execution_count": 65
        }
      ]
    },
    {
      "cell_type": "code",
      "metadata": {
        "id": "5UG72Xvd_k3l",
        "colab": {
          "base_uri": "https://localhost:8080/"
        },
        "outputId": "619d7c9d-5662-496e-e1ca-c5efe25571cf"
      },
      "source": [
        "array = np.array([[2],[7],[12]])\r\n",
        "array"
      ],
      "execution_count": 89,
      "outputs": [
        {
          "output_type": "execute_result",
          "data": {
            "text/plain": [
              "array([[ 2],\n",
              "       [ 7],\n",
              "       [12]])"
            ]
          },
          "metadata": {
            "tags": []
          },
          "execution_count": 89
        }
      ]
    },
    {
      "cell_type": "code",
      "metadata": {
        "id": "D0GG6ts9_k3l",
        "outputId": "528848f9-e428-4b57-bc01-c4a9db40b3b6"
      },
      "source": [
        "# WRITE CODE HERE THAT REPRODUCES THE OUTPUT OF THE CELL BELOW\n",
        "# BE CAREFUL NOT TO RUN THE CELL BELOW, OTHERWISE YOU WON'T\n",
        "# BE ABLE TO SEE THE OUTPUT ANY MORE\n"
      ],
      "execution_count": null,
      "outputs": [
        {
          "output_type": "execute_result",
          "data": {
            "text/plain": [
              "array([21, 22, 23, 24, 25])"
            ]
          },
          "metadata": {
            "tags": []
          },
          "execution_count": 61
        }
      ]
    },
    {
      "cell_type": "code",
      "metadata": {
        "id": "o4pP7rbX_k3m",
        "colab": {
          "base_uri": "https://localhost:8080/"
        },
        "outputId": "05721e46-a98b-48d1-ad8a-6ef8ce207337"
      },
      "source": [
        "array = np.arange(21,26)\r\n",
        "array"
      ],
      "execution_count": 90,
      "outputs": [
        {
          "output_type": "execute_result",
          "data": {
            "text/plain": [
              "array([21, 22, 23, 24, 25])"
            ]
          },
          "metadata": {
            "tags": []
          },
          "execution_count": 90
        }
      ]
    },
    {
      "cell_type": "code",
      "metadata": {
        "id": "srX9lN0e_k3n",
        "outputId": "af892261-b5ba-47fa-e96a-df5d54d0cdca"
      },
      "source": [
        "# WRITE CODE HERE THAT REPRODUCES THE OUTPUT OF THE CELL BELOW\n",
        "# BE CAREFUL NOT TO RUN THE CELL BELOW, OTHERWISE YOU WON'T\n",
        "# BE ABLE TO SEE THE OUTPUT ANY MORE\n"
      ],
      "execution_count": null,
      "outputs": [
        {
          "output_type": "execute_result",
          "data": {
            "text/plain": [
              "array([[16, 17, 18, 19, 20],\n",
              "       [21, 22, 23, 24, 25]])"
            ]
          },
          "metadata": {
            "tags": []
          },
          "execution_count": 64
        }
      ]
    },
    {
      "cell_type": "code",
      "metadata": {
        "id": "K6Ccp5K3_k3n",
        "colab": {
          "base_uri": "https://localhost:8080/"
        },
        "outputId": "4321b1a3-17ee-454a-9098-174e7e282fde"
      },
      "source": [
        "array = np.array([np.arange(16,21), np.arange(21,26)])\r\n",
        "array"
      ],
      "execution_count": 91,
      "outputs": [
        {
          "output_type": "execute_result",
          "data": {
            "text/plain": [
              "array([[16, 17, 18, 19, 20],\n",
              "       [21, 22, 23, 24, 25]])"
            ]
          },
          "metadata": {
            "tags": []
          },
          "execution_count": 91
        }
      ]
    },
    {
      "cell_type": "markdown",
      "metadata": {
        "id": "nUP73cVp_k3o"
      },
      "source": [
        "### Now do the following using the same matrix (mat)."
      ]
    },
    {
      "cell_type": "markdown",
      "metadata": {
        "id": "pzxi7oF4_k3o"
      },
      "source": [
        "#### Get the sum of all the values in mat\r\n",
        "\r\n",
        "> Indented block\r\n",
        "\r\n"
      ]
    },
    {
      "cell_type": "code",
      "metadata": {
        "id": "eSZokuKR_k3p",
        "colab": {
          "base_uri": "https://localhost:8080/"
        },
        "outputId": "37aebcda-0b7d-4edc-a8d4-b428e4881347"
      },
      "source": [
        "sum = np.sum(mat)\r\n",
        "sum"
      ],
      "execution_count": 92,
      "outputs": [
        {
          "output_type": "execute_result",
          "data": {
            "text/plain": [
              "325"
            ]
          },
          "metadata": {
            "tags": []
          },
          "execution_count": 92
        }
      ]
    },
    {
      "cell_type": "markdown",
      "metadata": {
        "id": "bYZ-U3tC_k3q"
      },
      "source": [
        "#### Get the standard deviation of the values in mat"
      ]
    },
    {
      "cell_type": "code",
      "metadata": {
        "id": "WZ1nLDiv_k3q",
        "colab": {
          "base_uri": "https://localhost:8080/"
        },
        "outputId": "fecd12fc-f81d-4a0c-87bd-2244accb29fe"
      },
      "source": [
        "std = np.std(mat)\r\n",
        "std"
      ],
      "execution_count": 93,
      "outputs": [
        {
          "output_type": "execute_result",
          "data": {
            "text/plain": [
              "7.211102550927978"
            ]
          },
          "metadata": {
            "tags": []
          },
          "execution_count": 93
        }
      ]
    },
    {
      "cell_type": "markdown",
      "metadata": {
        "id": "O_XGVFsQ_k3r"
      },
      "source": [
        "#### Get the sum of all the columns in mat"
      ]
    },
    {
      "cell_type": "code",
      "metadata": {
        "id": "EuVY26rc_k3r",
        "colab": {
          "base_uri": "https://localhost:8080/"
        },
        "outputId": "ef0ff8e7-dac9-401a-937d-63ef81fb9fd1"
      },
      "source": [
        "sum = np.sum(mat,axis=0)\r\n",
        "sum"
      ],
      "execution_count": 94,
      "outputs": [
        {
          "output_type": "execute_result",
          "data": {
            "text/plain": [
              "array([55, 60, 65, 70, 75])"
            ]
          },
          "metadata": {
            "tags": []
          },
          "execution_count": 94
        }
      ]
    },
    {
      "cell_type": "markdown",
      "metadata": {
        "collapsed": true,
        "id": "BD5TPn8N_k3s"
      },
      "source": [
        "# Great Job!"
      ]
    }
  ]
}